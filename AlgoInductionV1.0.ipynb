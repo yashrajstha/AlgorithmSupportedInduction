{
  "nbformat": 4,
  "nbformat_minor": 0,
  "metadata": {
    "colab": {
      "name": "AlgoInduction.ipynb",
      "provenance": [],
      "collapsed_sections": []
    },
    "kernelspec": {
      "name": "python3",
      "display_name": "Python 3"
    }
  },
  "cells": [
    {
      "cell_type": "markdown",
      "metadata": {
        "id": "8vFt-j09rG9r",
        "colab_type": "text"
      },
      "source": [
        "**Stage 0: Set up**     \n",
        "(Importing the modules required) "
      ]
    },
    {
      "cell_type": "code",
      "metadata": {
        "id": "iLZnxZ5AYalM",
        "colab_type": "code",
        "colab": {
          "base_uri": "https://localhost:8080/",
          "height": 411
        },
        "outputId": "29b918ad-5418-4817-8243-af22302d3679"
      },
      "source": [
        "import pandas as pd\n",
        "from google.colab import files\n",
        "from sklearn.impute import KNNImputer\n",
        "import numpy as np\n",
        "from sklearn.model_selection import train_test_split\n",
        "from sklearn.ensemble import RandomForestRegressor\n",
        "from sklearn.ensemble import RandomForestClassifier\n",
        "from sklearn.neural_network import MLPRegressor\n",
        "from sklearn.neural_network import MLPClassifier\n",
        "from pprint import pprint\n",
        "from sklearn.model_selection import RandomizedSearchCV\n",
        "from sklearn import preprocessing as pp\n",
        "from sklearn.linear_model import Lasso\n",
        "from sklearn.model_selection import GridSearchCV\n",
        "from sklearn.linear_model import LinearRegression\n",
        "! pip install eli5\n",
        "import eli5\n",
        "from eli5.sklearn import PermutationImportance\n",
        "import seaborn as sns\n",
        "import matplotlib.pyplot as plt\n"
      ],
      "execution_count": 1,
      "outputs": [
        {
          "output_type": "stream",
          "text": [
            "Collecting eli5\n",
            "\u001b[?25l  Downloading https://files.pythonhosted.org/packages/97/2f/c85c7d8f8548e460829971785347e14e45fa5c6617da374711dec8cb38cc/eli5-0.10.1-py2.py3-none-any.whl (105kB)\n",
            "\r\u001b[K     |███                             | 10kB 14.4MB/s eta 0:00:01\r\u001b[K     |██████▏                         | 20kB 1.7MB/s eta 0:00:01\r\u001b[K     |█████████▎                      | 30kB 2.3MB/s eta 0:00:01\r\u001b[K     |████████████▍                   | 40kB 2.5MB/s eta 0:00:01\r\u001b[K     |███████████████▌                | 51kB 2.0MB/s eta 0:00:01\r\u001b[K     |██████████████████▋             | 61kB 2.3MB/s eta 0:00:01\r\u001b[K     |█████████████████████▊          | 71kB 2.5MB/s eta 0:00:01\r\u001b[K     |████████████████████████▊       | 81kB 2.7MB/s eta 0:00:01\r\u001b[K     |███████████████████████████▉    | 92kB 2.9MB/s eta 0:00:01\r\u001b[K     |███████████████████████████████ | 102kB 2.8MB/s eta 0:00:01\r\u001b[K     |████████████████████████████████| 112kB 2.8MB/s \n",
            "\u001b[?25hRequirement already satisfied: numpy>=1.9.0 in /usr/local/lib/python3.6/dist-packages (from eli5) (1.18.5)\n",
            "Requirement already satisfied: scikit-learn>=0.18 in /usr/local/lib/python3.6/dist-packages (from eli5) (0.22.2.post1)\n",
            "Requirement already satisfied: six in /usr/local/lib/python3.6/dist-packages (from eli5) (1.12.0)\n",
            "Requirement already satisfied: attrs>16.0.0 in /usr/local/lib/python3.6/dist-packages (from eli5) (19.3.0)\n",
            "Requirement already satisfied: tabulate>=0.7.7 in /usr/local/lib/python3.6/dist-packages (from eli5) (0.8.7)\n",
            "Requirement already satisfied: scipy in /usr/local/lib/python3.6/dist-packages (from eli5) (1.4.1)\n",
            "Requirement already satisfied: graphviz in /usr/local/lib/python3.6/dist-packages (from eli5) (0.10.1)\n",
            "Requirement already satisfied: jinja2 in /usr/local/lib/python3.6/dist-packages (from eli5) (2.11.2)\n",
            "Requirement already satisfied: joblib>=0.11 in /usr/local/lib/python3.6/dist-packages (from scikit-learn>=0.18->eli5) (0.16.0)\n",
            "Requirement already satisfied: MarkupSafe>=0.23 in /usr/local/lib/python3.6/dist-packages (from jinja2->eli5) (1.1.1)\n",
            "Installing collected packages: eli5\n",
            "Successfully installed eli5-0.10.1\n"
          ],
          "name": "stdout"
        },
        {
          "output_type": "stream",
          "text": [
            "/usr/local/lib/python3.6/dist-packages/sklearn/utils/deprecation.py:144: FutureWarning: The sklearn.metrics.scorer module is  deprecated in version 0.22 and will be removed in version 0.24. The corresponding classes / functions should instead be imported from sklearn.metrics. Anything that cannot be imported from sklearn.metrics is now part of the private API.\n",
            "  warnings.warn(message, FutureWarning)\n",
            "/usr/local/lib/python3.6/dist-packages/sklearn/utils/deprecation.py:144: FutureWarning: The sklearn.feature_selection.base module is  deprecated in version 0.22 and will be removed in version 0.24. The corresponding classes / functions should instead be imported from sklearn.feature_selection. Anything that cannot be imported from sklearn.feature_selection is now part of the private API.\n",
            "  warnings.warn(message, FutureWarning)\n",
            "Using TensorFlow backend.\n",
            "/usr/local/lib/python3.6/dist-packages/statsmodels/tools/_testing.py:19: FutureWarning: pandas.util.testing is deprecated. Use the functions in the public API at pandas.testing instead.\n",
            "  import pandas.util.testing as tm\n"
          ],
          "name": "stderr"
        }
      ]
    },
    {
      "cell_type": "markdown",
      "metadata": {
        "id": "XxJizpbm4ICN",
        "colab_type": "text"
      },
      "source": [
        "**Stage 1: Data-preprocessing**"
      ]
    },
    {
      "cell_type": "markdown",
      "metadata": {
        "id": "7o7Pmo-f7N6x",
        "colab_type": "text"
      },
      "source": [
        "1.1 Loading any required dataset"
      ]
    },
    {
      "cell_type": "code",
      "metadata": {
        "id": "9tZwInTU4CoX",
        "colab_type": "code",
        "colab": {
          "resources": {
            "http://localhost:8080/nbextensions/google.colab/files.js": {
              "data": "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",
              "ok": true,
              "headers": [
                [
                  "content-type",
                  "application/javascript"
                ]
              ],
              "status": 200,
              "status_text": ""
            }
          },
          "base_uri": "https://localhost:8080/",
          "height": 72
        },
        "outputId": "8bf8f03d-a455-4d61-c8e9-c77d5609ca08"
      },
      "source": [
        "#Any dataset of the user's choice can be uploaded by changing file name \n",
        "#df = pd.read_excel(\"df_stud_simplest_train.xlsx\")\n",
        "from google.colab import files\n",
        "uploaded = files.upload()\n",
        "name=\"df_stud_simplest_train_PP.xlsx\"\n",
        "df = pd.read_excel(name)"
      ],
      "execution_count": 7,
      "outputs": [
        {
          "output_type": "display_data",
          "data": {
            "text/html": [
              "\n",
              "     <input type=\"file\" id=\"files-8f6199ea-0dc6-496b-9eaa-4f87f4bc26c1\" name=\"files[]\" multiple disabled\n",
              "        style=\"border:none\" />\n",
              "     <output id=\"result-8f6199ea-0dc6-496b-9eaa-4f87f4bc26c1\">\n",
              "      Upload widget is only available when the cell has been executed in the\n",
              "      current browser session. Please rerun this cell to enable.\n",
              "      </output>\n",
              "      <script src=\"/nbextensions/google.colab/files.js\"></script> "
            ],
            "text/plain": [
              "<IPython.core.display.HTML object>"
            ]
          },
          "metadata": {
            "tags": []
          }
        },
        {
          "output_type": "stream",
          "text": [
            "Saving df_stud_simplest_train_PP.xlsx to df_stud_simplest_train_PP (1).xlsx\n"
          ],
          "name": "stdout"
        }
      ]
    },
    {
      "cell_type": "markdown",
      "metadata": {
        "id": "KOTkFfds7ak-",
        "colab_type": "text"
      },
      "source": [
        "1.2 Imputing the dataset to fill any missing values, if the datset uploaded was incomplete. "
      ]
    },
    {
      "cell_type": "code",
      "metadata": {
        "id": "qNufrYfMEiT7",
        "colab_type": "code",
        "colab": {
          "base_uri": "https://localhost:8080/",
          "height": 289
        },
        "outputId": "0cef8a17-e1c3-4b05-d382-2e3bf0d3caa2"
      },
      "source": [
        "choice_for_missing_data = int(input(\"If there are missing values in the dataset, you can choose to either impute (enter '1') them or to use only rows without missing data (enter '0'). \"))\n",
        "if (choice_for_missing_data == 1):\n",
        "  df.replace(r'^\\s*$', np.nan, regex=True)\n",
        "  imputer = KNNImputer(n_neighbors=2)\n",
        "  filled = imputer.fit_transform(df)\n",
        "  df_filled = pd.DataFrame(filled, columns = df.columns)\n",
        "  df_filled = df_filled.drop(columns=\"index\")\n",
        "  if (df_filled.isnull().sum().sum() == 0 ):\n",
        "    print(\"Dataset has been succesfully imputed.\")\n",
        "    print(df_filled)\n",
        "elif (choice_for_missing_data == 0):\n",
        "  df.dropna(axis = 0, how='any',inplace=True)\n",
        "  df_filled = df.copy(deep='True')\n",
        "  if (df.isnull().sum().sum() == 0 ):\n",
        "    print(\"Dataset has been succesfully imputed.\")\n",
        "    print(df_filled)\n",
        "else:\n",
        "  print(\"Wrong input for choice, enter either 0 or 1\")\n",
        "\n"
      ],
      "execution_count": 8,
      "outputs": [
        {
          "output_type": "stream",
          "text": [
            "If there are missing values in the dataset, you can choose to either impute (enter '1') them or to use only rows without missing data (enter '0'). 0\n",
            "Dataset has been succesfully imputed.\n",
            "       ComplexConvergenceDum  NSolutions  ...  GroupDum  high_std_experience_dum\n",
            "10                         0          32  ...         1                      0.0\n",
            "23                         0          15  ...         1                      0.0\n",
            "66                         0         271  ...         1                      1.0\n",
            "103                        0          24  ...         1                      0.0\n",
            "188                        0           6  ...         1                      0.0\n",
            "...                      ...         ...  ...       ...                      ...\n",
            "57735                      0           4  ...         1                      0.0\n",
            "57796                      0          77  ...         1                      0.0\n",
            "57843                      0          68  ...         1                      1.0\n",
            "57864                      0          22  ...         1                      0.0\n",
            "57876                      0          24  ...         1                      1.0\n",
            "\n",
            "[1739 rows x 15 columns]\n"
          ],
          "name": "stdout"
        }
      ]
    },
    {
      "cell_type": "markdown",
      "metadata": {
        "id": "Vc9M71rCBXa3",
        "colab_type": "text"
      },
      "source": [
        "1.3 Splitting the dataset"
      ]
    },
    {
      "cell_type": "code",
      "metadata": {
        "id": "uEI0phjVOnO2",
        "colab_type": "code",
        "colab": {
          "base_uri": "https://localhost:8080/",
          "height": 34
        },
        "outputId": "7134a628-d11f-48a3-c81a-bceed0a2813f"
      },
      "source": [
        "#Splitting dataset equally into train and test \n",
        "\n",
        "target_name = input(\"Enter column name that is the target variable:\") \n",
        "\n",
        "X_train_df = df_filled.copy(deep=True)\n",
        "selected_columns = X_train_df[[target_name]]\n",
        "Y_train_df = selected_columns.copy()\n",
        "X_train_df = X_train_df.drop(columns=target_name)\n"
      ],
      "execution_count": 9,
      "outputs": [
        {
          "output_type": "stream",
          "text": [
            "Enter column name that is the target variable:PrivateLeaderboardScore\n"
          ],
          "name": "stdout"
        }
      ]
    },
    {
      "cell_type": "markdown",
      "metadata": {
        "id": "kBo6OS8oEfMh",
        "colab_type": "text"
      },
      "source": [
        "**Stage 2: Feature selection and polynomial creation**"
      ]
    },
    {
      "cell_type": "markdown",
      "metadata": {
        "id": "LSLfZW7kExtr",
        "colab_type": "text"
      },
      "source": [
        "2.1 Hyperparameter tuning of random forest and MLP using K-fold cross-validation"
      ]
    },
    {
      "cell_type": "code",
      "metadata": {
        "id": "f-u9M-BzgNAr",
        "colab_type": "code",
        "colab": {
          "base_uri": "https://localhost:8080/",
          "height": 34
        },
        "outputId": "36d34255-5e03-4789-98e3-489bc244fa38"
      },
      "source": [
        "type_of_data = int(input(\"Enter 1 the target variable is categorical. Enter 0 if the target variable is continuous: \"))\n",
        "if (type_of_data == 1):\n",
        "  rf = RandomForestClassifier()\n",
        "  mlp = MLPClassifier(max_iter=100)\n",
        "elif (type_of_data == 0):\n",
        "  rf = RandomForestRegressor()\n",
        "  mlp = MLPRegressor(max_iter=100)"
      ],
      "execution_count": 10,
      "outputs": [
        {
          "output_type": "stream",
          "text": [
            "Enter 1 the target variable is categorical. Enter 0 if the target variable is continuous: 0\n"
          ],
          "name": "stdout"
        }
      ]
    },
    {
      "cell_type": "code",
      "metadata": {
        "id": "ZaR_4rFvweRb",
        "colab_type": "code",
        "colab": {
          "base_uri": "https://localhost:8080/",
          "height": 1000
        },
        "outputId": "5cc30775-03cd-4001-fa41-ce02372a8f03"
      },
      "source": [
        "print('Parameters currently in use, before hyperparameter tuning:\\n')\n",
        "pprint(rf.get_params())\n",
        "\n",
        "# All possibile values each parameter can take\n",
        "\n",
        "# Number of trees in random forest\n",
        "n_estimators = []\n",
        "n_estimators.append((int(input(\"Enter number of estimators, ie. number of trees in random forest:\"))))\n",
        "\n",
        "# Number of features to consider at every split\n",
        "max_features = ['auto']\n",
        "# Maximum number of levels in tree\n",
        "max_depth = []\n",
        "max_depth.append((int(input(\"Enter a number from 1-10 for maximum number of levels in a tree:\"))))\n",
        "# Minimum number of samples required to split a node\n",
        "min_samples_split = [2, 5, 10]\n",
        "# Minimum number of samples required at each leaf node\n",
        "min_samples_leaf = [1, 2, 4]\n",
        "# Method of selecting samples for training each tree\n",
        "bootstrap = [True]\n",
        "# Create the random grid\n",
        "random_grid = {'n_estimators': n_estimators,\n",
        "               'max_features': max_features,\n",
        "               'max_depth': max_depth,\n",
        "               'min_samples_split': min_samples_split,\n",
        "               'min_samples_leaf': min_samples_leaf,\n",
        "               'bootstrap': bootstrap}\n",
        "print(\"Randomised grid to test for the best hyperparameter:\\n\")\n",
        "pprint(random_grid)\n",
        "\n",
        "\n",
        "  \n",
        "# Random search using grid of parameters, using 3 fold cross validation, \n",
        "# search across 50 different combinations, and use all available cores\n",
        "rf_random = RandomizedSearchCV(estimator = rf, param_distributions = random_grid, n_iter = 50, cv = 3, verbose=2, random_state=42, n_jobs = -1)\n",
        "# Fit the random search model\n",
        "rf_random.fit(X_train_df, Y_train_df)\n",
        "print(\"\\n The best parameters for the random forest, after hyperparameter tuning are:\")\n",
        "pprint(rf_random.best_params_)\n",
        "\n",
        "feature_list = list(X_train_df.columns)\n",
        "importances = list(rf_random.best_estimator_.feature_importances_)\n",
        "\n",
        "feature_importances = [(feature, round(importance, 4)) for feature, importance in zip(feature_list, importances)]\n",
        "\n",
        "# Sort the feature importances by most important first\n",
        "feature_importances = sorted(feature_importances, key = lambda x: x[1], reverse = True)\n",
        "\n",
        "# Print out the feature and importances \n",
        "print(\"\\n Features and their importance:\")\n",
        "pprint(feature_importances)"
      ],
      "execution_count": 11,
      "outputs": [
        {
          "output_type": "stream",
          "text": [
            "Parameters currently in use, before hyperparameter tuning:\n",
            "\n",
            "{'bootstrap': True,\n",
            " 'ccp_alpha': 0.0,\n",
            " 'criterion': 'mse',\n",
            " 'max_depth': None,\n",
            " 'max_features': 'auto',\n",
            " 'max_leaf_nodes': None,\n",
            " 'max_samples': None,\n",
            " 'min_impurity_decrease': 0.0,\n",
            " 'min_impurity_split': None,\n",
            " 'min_samples_leaf': 1,\n",
            " 'min_samples_split': 2,\n",
            " 'min_weight_fraction_leaf': 0.0,\n",
            " 'n_estimators': 100,\n",
            " 'n_jobs': None,\n",
            " 'oob_score': False,\n",
            " 'random_state': None,\n",
            " 'verbose': 0,\n",
            " 'warm_start': False}\n",
            "Enter number of estimators, ie. number of trees in random forest:50\n",
            "Enter a number from 1-10 for maximum number of levels in a tree:4\n",
            "Randomised grid to test for the best hyperparameter:\n",
            "\n",
            "{'bootstrap': [True],\n",
            " 'max_depth': [4],\n",
            " 'max_features': ['auto'],\n",
            " 'min_samples_leaf': [1, 2, 4],\n",
            " 'min_samples_split': [2, 5, 10],\n",
            " 'n_estimators': [50]}\n",
            "Fitting 3 folds for each of 9 candidates, totalling 27 fits\n"
          ],
          "name": "stdout"
        },
        {
          "output_type": "stream",
          "text": [
            "/usr/local/lib/python3.6/dist-packages/sklearn/model_selection/_search.py:281: UserWarning: The total space of parameters 9 is smaller than n_iter=50. Running 9 iterations. For exhaustive searches, use GridSearchCV.\n",
            "  % (grid_size, self.n_iter, grid_size), UserWarning)\n",
            "[Parallel(n_jobs=-1)]: Using backend LokyBackend with 2 concurrent workers.\n"
          ],
          "name": "stderr"
        },
        {
          "output_type": "stream",
          "text": [
            "\n",
            " The best parameters for the random forest, after hyperparameter tuning are:\n",
            "{'bootstrap': True,\n",
            " 'max_depth': 4,\n",
            " 'max_features': 'auto',\n",
            " 'min_samples_leaf': 4,\n",
            " 'min_samples_split': 10,\n",
            " 'n_estimators': 50}\n",
            "\n",
            " Features and their importance:\n",
            "[('NSolutions', 0.4545),\n",
            " ('QualitativeDivergence', 0.4128),\n",
            " ('std_experience', 0.0478),\n",
            " ('high_std_experience_dum', 0.0245),\n",
            " ('avg_experience', 0.0211),\n",
            " ('GroupSize', 0.0164),\n",
            " ('NumScoredSubmissions', 0.0095),\n",
            " ('skew_gold_dum_pri_count', 0.006),\n",
            " ('skew_experience', 0.0041),\n",
            " ('convergence_var', 0.0021),\n",
            " ('ComplexConvergenceDum', 0.0006),\n",
            " ('std_gold_dum_pri_count', 0.0006),\n",
            " ('avg_gold_dum_pri_count', 0.0),\n",
            " ('GroupDum', 0.0)]\n"
          ],
          "name": "stdout"
        },
        {
          "output_type": "stream",
          "text": [
            "[Parallel(n_jobs=-1)]: Done  27 out of  27 | elapsed:    3.7s finished\n",
            "/usr/local/lib/python3.6/dist-packages/sklearn/model_selection/_search.py:739: DataConversionWarning: A column-vector y was passed when a 1d array was expected. Please change the shape of y to (n_samples,), for example using ravel().\n",
            "  self.best_estimator_.fit(X, y, **fit_params)\n"
          ],
          "name": "stderr"
        }
      ]
    },
    {
      "cell_type": "code",
      "metadata": {
        "id": "N6XY7_ZJJq40",
        "colab_type": "code",
        "colab": {
          "base_uri": "https://localhost:8080/",
          "height": 445
        },
        "outputId": "58a2b268-7a32-4514-c649-452dc8162ac5"
      },
      "source": [
        "parameter_space = {\n",
        "    'hidden_layer_sizes': [(50,50,50), (50,100,50), (100,)],\n",
        "    'alpha': [0.0001, 0.05],\n",
        "}\n",
        "\n",
        "clf = GridSearchCV(mlp, parameter_space, n_jobs=-1, cv=3)\n",
        "clf.fit(X_train_df, Y_train_df)\n",
        "\n",
        "# Best parameter set\n",
        "print('Best parameters found:\\n')\n",
        "pprint(clf.best_params_)\n",
        "print('\\n')\n",
        "\n",
        "\n",
        "perm = PermutationImportance(clf.best_estimator_).fit(X_train_df,Y_train_df)\n",
        "eli5.show_weights(perm, feature_names = X_train_df.columns.tolist())\n",
        "\n",
        "\n"
      ],
      "execution_count": 12,
      "outputs": [
        {
          "output_type": "stream",
          "text": [
            "/usr/local/lib/python3.6/dist-packages/sklearn/neural_network/_multilayer_perceptron.py:1342: DataConversionWarning: A column-vector y was passed when a 1d array was expected. Please change the shape of y to (n_samples, ), for example using ravel().\n",
            "  y = column_or_1d(y, warn=True)\n",
            "/usr/local/lib/python3.6/dist-packages/sklearn/neural_network/_multilayer_perceptron.py:571: ConvergenceWarning: Stochastic Optimizer: Maximum iterations (100) reached and the optimization hasn't converged yet.\n",
            "  % self.max_iter, ConvergenceWarning)\n"
          ],
          "name": "stderr"
        },
        {
          "output_type": "stream",
          "text": [
            "Best parameters found:\n",
            "\n",
            "{'alpha': 0.0001, 'hidden_layer_sizes': (100,)}\n",
            "\n",
            "\n"
          ],
          "name": "stdout"
        },
        {
          "output_type": "execute_result",
          "data": {
            "text/html": [
              "\n",
              "    <style>\n",
              "    table.eli5-weights tr:hover {\n",
              "        filter: brightness(85%);\n",
              "    }\n",
              "</style>\n",
              "\n",
              "\n",
              "\n",
              "    \n",
              "\n",
              "    \n",
              "\n",
              "    \n",
              "\n",
              "    \n",
              "\n",
              "    \n",
              "\n",
              "    \n",
              "\n",
              "\n",
              "    \n",
              "\n",
              "    \n",
              "\n",
              "    \n",
              "\n",
              "    \n",
              "\n",
              "    \n",
              "\n",
              "    \n",
              "\n",
              "\n",
              "    \n",
              "\n",
              "    \n",
              "\n",
              "    \n",
              "\n",
              "    \n",
              "\n",
              "    \n",
              "        <table class=\"eli5-weights eli5-feature-importances\" style=\"border-collapse: collapse; border: none; margin-top: 0em; table-layout: auto;\">\n",
              "    <thead>\n",
              "    <tr style=\"border: none;\">\n",
              "        <th style=\"padding: 0 1em 0 0.5em; text-align: right; border: none;\">Weight</th>\n",
              "        <th style=\"padding: 0 0.5em 0 0.5em; text-align: left; border: none;\">Feature</th>\n",
              "    </tr>\n",
              "    </thead>\n",
              "    <tbody>\n",
              "    \n",
              "        <tr style=\"background-color: hsl(120, 100.00%, 80.00%); border: none;\">\n",
              "            <td style=\"padding: 0 1em 0 0.5em; text-align: right; border: none;\">\n",
              "                0.2460\n",
              "                \n",
              "                    &plusmn; 0.0298\n",
              "                \n",
              "            </td>\n",
              "            <td style=\"padding: 0 0.5em 0 0.5em; text-align: left; border: none;\">\n",
              "                NSolutions\n",
              "            </td>\n",
              "        </tr>\n",
              "    \n",
              "        <tr style=\"background-color: hsl(120, 100.00%, 91.73%); border: none;\">\n",
              "            <td style=\"padding: 0 1em 0 0.5em; text-align: right; border: none;\">\n",
              "                0.0697\n",
              "                \n",
              "                    &plusmn; 0.0176\n",
              "                \n",
              "            </td>\n",
              "            <td style=\"padding: 0 0.5em 0 0.5em; text-align: left; border: none;\">\n",
              "                QualitativeDivergence\n",
              "            </td>\n",
              "        </tr>\n",
              "    \n",
              "        <tr style=\"background-color: hsl(120, 100.00%, 91.78%); border: none;\">\n",
              "            <td style=\"padding: 0 1em 0 0.5em; text-align: right; border: none;\">\n",
              "                0.0691\n",
              "                \n",
              "                    &plusmn; 0.0232\n",
              "                \n",
              "            </td>\n",
              "            <td style=\"padding: 0 0.5em 0 0.5em; text-align: left; border: none;\">\n",
              "                avg_gold_dum_pri_count\n",
              "            </td>\n",
              "        </tr>\n",
              "    \n",
              "        <tr style=\"background-color: hsl(120, 100.00%, 93.19%); border: none;\">\n",
              "            <td style=\"padding: 0 1em 0 0.5em; text-align: right; border: none;\">\n",
              "                0.0528\n",
              "                \n",
              "                    &plusmn; 0.0343\n",
              "                \n",
              "            </td>\n",
              "            <td style=\"padding: 0 0.5em 0 0.5em; text-align: left; border: none;\">\n",
              "                high_std_experience_dum\n",
              "            </td>\n",
              "        </tr>\n",
              "    \n",
              "        <tr style=\"background-color: hsl(120, 100.00%, 93.96%); border: none;\">\n",
              "            <td style=\"padding: 0 1em 0 0.5em; text-align: right; border: none;\">\n",
              "                0.0444\n",
              "                \n",
              "                    &plusmn; 0.0094\n",
              "                \n",
              "            </td>\n",
              "            <td style=\"padding: 0 0.5em 0 0.5em; text-align: left; border: none;\">\n",
              "                std_gold_dum_pri_count\n",
              "            </td>\n",
              "        </tr>\n",
              "    \n",
              "        <tr style=\"background-color: hsl(120, 100.00%, 94.51%); border: none;\">\n",
              "            <td style=\"padding: 0 1em 0 0.5em; text-align: right; border: none;\">\n",
              "                0.0388\n",
              "                \n",
              "                    &plusmn; 0.0109\n",
              "                \n",
              "            </td>\n",
              "            <td style=\"padding: 0 0.5em 0 0.5em; text-align: left; border: none;\">\n",
              "                avg_experience\n",
              "            </td>\n",
              "        </tr>\n",
              "    \n",
              "        <tr style=\"background-color: hsl(120, 100.00%, 94.86%); border: none;\">\n",
              "            <td style=\"padding: 0 1em 0 0.5em; text-align: right; border: none;\">\n",
              "                0.0353\n",
              "                \n",
              "                    &plusmn; 0.0099\n",
              "                \n",
              "            </td>\n",
              "            <td style=\"padding: 0 0.5em 0 0.5em; text-align: left; border: none;\">\n",
              "                std_experience\n",
              "            </td>\n",
              "        </tr>\n",
              "    \n",
              "        <tr style=\"background-color: hsl(120, 100.00%, 94.88%); border: none;\">\n",
              "            <td style=\"padding: 0 1em 0 0.5em; text-align: right; border: none;\">\n",
              "                0.0351\n",
              "                \n",
              "                    &plusmn; 0.0087\n",
              "                \n",
              "            </td>\n",
              "            <td style=\"padding: 0 0.5em 0 0.5em; text-align: left; border: none;\">\n",
              "                convergence_var\n",
              "            </td>\n",
              "        </tr>\n",
              "    \n",
              "        <tr style=\"background-color: hsl(120, 100.00%, 97.41%); border: none;\">\n",
              "            <td style=\"padding: 0 1em 0 0.5em; text-align: right; border: none;\">\n",
              "                0.0133\n",
              "                \n",
              "                    &plusmn; 0.0073\n",
              "                \n",
              "            </td>\n",
              "            <td style=\"padding: 0 0.5em 0 0.5em; text-align: left; border: none;\">\n",
              "                NumScoredSubmissions\n",
              "            </td>\n",
              "        </tr>\n",
              "    \n",
              "        <tr style=\"background-color: hsl(120, 100.00%, 97.59%); border: none;\">\n",
              "            <td style=\"padding: 0 1em 0 0.5em; text-align: right; border: none;\">\n",
              "                0.0120\n",
              "                \n",
              "                    &plusmn; 0.0097\n",
              "                \n",
              "            </td>\n",
              "            <td style=\"padding: 0 0.5em 0 0.5em; text-align: left; border: none;\">\n",
              "                skew_experience\n",
              "            </td>\n",
              "        </tr>\n",
              "    \n",
              "        <tr style=\"background-color: hsl(120, 100.00%, 97.75%); border: none;\">\n",
              "            <td style=\"padding: 0 1em 0 0.5em; text-align: right; border: none;\">\n",
              "                0.0108\n",
              "                \n",
              "                    &plusmn; 0.0070\n",
              "                \n",
              "            </td>\n",
              "            <td style=\"padding: 0 0.5em 0 0.5em; text-align: left; border: none;\">\n",
              "                GroupSize\n",
              "            </td>\n",
              "        </tr>\n",
              "    \n",
              "        <tr style=\"background-color: hsl(120, 100.00%, 98.18%); border: none;\">\n",
              "            <td style=\"padding: 0 1em 0 0.5em; text-align: right; border: none;\">\n",
              "                0.0080\n",
              "                \n",
              "                    &plusmn; 0.0025\n",
              "                \n",
              "            </td>\n",
              "            <td style=\"padding: 0 0.5em 0 0.5em; text-align: left; border: none;\">\n",
              "                skew_gold_dum_pri_count\n",
              "            </td>\n",
              "        </tr>\n",
              "    \n",
              "        <tr style=\"background-color: hsl(120, 100.00%, 98.41%); border: none;\">\n",
              "            <td style=\"padding: 0 1em 0 0.5em; text-align: right; border: none;\">\n",
              "                0.0066\n",
              "                \n",
              "                    &plusmn; 0.0069\n",
              "                \n",
              "            </td>\n",
              "            <td style=\"padding: 0 0.5em 0 0.5em; text-align: left; border: none;\">\n",
              "                ComplexConvergenceDum\n",
              "            </td>\n",
              "        </tr>\n",
              "    \n",
              "        <tr style=\"background-color: hsl(0, 100.00%, 100.00%); border: none;\">\n",
              "            <td style=\"padding: 0 1em 0 0.5em; text-align: right; border: none;\">\n",
              "                0\n",
              "                \n",
              "                    &plusmn; 0.0000\n",
              "                \n",
              "            </td>\n",
              "            <td style=\"padding: 0 0.5em 0 0.5em; text-align: left; border: none;\">\n",
              "                GroupDum\n",
              "            </td>\n",
              "        </tr>\n",
              "    \n",
              "    \n",
              "    </tbody>\n",
              "</table>\n",
              "    \n",
              "\n",
              "    \n",
              "\n",
              "\n",
              "    \n",
              "\n",
              "    \n",
              "\n",
              "    \n",
              "\n",
              "    \n",
              "\n",
              "    \n",
              "\n",
              "    \n",
              "\n",
              "\n",
              "\n"
            ],
            "text/plain": [
              "<IPython.core.display.HTML object>"
            ]
          },
          "metadata": {
            "tags": []
          },
          "execution_count": 12
        }
      ]
    },
    {
      "cell_type": "code",
      "metadata": {
        "id": "ANEMg0blSqUa",
        "colab_type": "code",
        "colab": {
          "base_uri": "https://localhost:8080/",
          "height": 136
        },
        "outputId": "bd016b38-e024-47da-9480-dc2d15f0ad9e"
      },
      "source": [
        "num_required_features = int(input(\"How many variables do you want to select? \"))\n",
        "req_feature_list = [] \n",
        "print(\"\\n\")\n",
        "for i in range (0,num_required_features):\n",
        "  feature_choice = input(\"Enter required feature: \")\n",
        "  req_feature_list.append(feature_choice) \n",
        "   "
      ],
      "execution_count": 13,
      "outputs": [
        {
          "output_type": "stream",
          "text": [
            "How many variables do you want to select? 4\n",
            "\n",
            "\n",
            "Enter required feature: ComplexConvergenceDum\n",
            "Enter required feature: NSolutions\n",
            "Enter required feature: QualitativeDivergence\n",
            "Enter required feature: avg_gold_dum_pri_count\n"
          ],
          "name": "stdout"
        }
      ]
    },
    {
      "cell_type": "markdown",
      "metadata": {
        "id": "87bDVEcWOOLD",
        "colab_type": "text"
      },
      "source": [
        "2.2 Creating modified dataframe with only the required features the user has selected"
      ]
    },
    {
      "cell_type": "code",
      "metadata": {
        "id": "UbOlSrk2oxAV",
        "colab_type": "code",
        "colab": {
          "base_uri": "https://localhost:8080/",
          "height": 419
        },
        "outputId": "3d7b49c6-ba63-431a-bd8a-33628681df7a"
      },
      "source": [
        "req_feature_df = pd.DataFrame(req_feature_list)\n",
        "col_names = list(X_train_df.columns)\n",
        "\n",
        "X_train_selected_features_df= X_train_df.copy(deep=True)\n",
        "for col_name in col_names:\n",
        "    if col_name not in req_feature_list:\n",
        "        X_train_selected_features_df = X_train_selected_features_df.drop(columns=col_name,inplace=False)\n",
        "\n",
        "X_train_selected_features_df"
      ],
      "execution_count": 14,
      "outputs": [
        {
          "output_type": "execute_result",
          "data": {
            "text/html": [
              "<div>\n",
              "<style scoped>\n",
              "    .dataframe tbody tr th:only-of-type {\n",
              "        vertical-align: middle;\n",
              "    }\n",
              "\n",
              "    .dataframe tbody tr th {\n",
              "        vertical-align: top;\n",
              "    }\n",
              "\n",
              "    .dataframe thead th {\n",
              "        text-align: right;\n",
              "    }\n",
              "</style>\n",
              "<table border=\"1\" class=\"dataframe\">\n",
              "  <thead>\n",
              "    <tr style=\"text-align: right;\">\n",
              "      <th></th>\n",
              "      <th>ComplexConvergenceDum</th>\n",
              "      <th>NSolutions</th>\n",
              "      <th>QualitativeDivergence</th>\n",
              "      <th>avg_gold_dum_pri_count</th>\n",
              "    </tr>\n",
              "  </thead>\n",
              "  <tbody>\n",
              "    <tr>\n",
              "      <th>10</th>\n",
              "      <td>0</td>\n",
              "      <td>32</td>\n",
              "      <td>0.115516</td>\n",
              "      <td>0.0</td>\n",
              "    </tr>\n",
              "    <tr>\n",
              "      <th>23</th>\n",
              "      <td>0</td>\n",
              "      <td>15</td>\n",
              "      <td>1.298079</td>\n",
              "      <td>0.0</td>\n",
              "    </tr>\n",
              "    <tr>\n",
              "      <th>66</th>\n",
              "      <td>0</td>\n",
              "      <td>271</td>\n",
              "      <td>0.027853</td>\n",
              "      <td>4.0</td>\n",
              "    </tr>\n",
              "    <tr>\n",
              "      <th>103</th>\n",
              "      <td>0</td>\n",
              "      <td>24</td>\n",
              "      <td>0.044433</td>\n",
              "      <td>0.0</td>\n",
              "    </tr>\n",
              "    <tr>\n",
              "      <th>188</th>\n",
              "      <td>0</td>\n",
              "      <td>6</td>\n",
              "      <td>0.349953</td>\n",
              "      <td>0.0</td>\n",
              "    </tr>\n",
              "    <tr>\n",
              "      <th>...</th>\n",
              "      <td>...</td>\n",
              "      <td>...</td>\n",
              "      <td>...</td>\n",
              "      <td>...</td>\n",
              "    </tr>\n",
              "    <tr>\n",
              "      <th>57735</th>\n",
              "      <td>0</td>\n",
              "      <td>4</td>\n",
              "      <td>0.000000</td>\n",
              "      <td>0.0</td>\n",
              "    </tr>\n",
              "    <tr>\n",
              "      <th>57796</th>\n",
              "      <td>0</td>\n",
              "      <td>77</td>\n",
              "      <td>0.728924</td>\n",
              "      <td>0.0</td>\n",
              "    </tr>\n",
              "    <tr>\n",
              "      <th>57843</th>\n",
              "      <td>0</td>\n",
              "      <td>68</td>\n",
              "      <td>0.096943</td>\n",
              "      <td>0.0</td>\n",
              "    </tr>\n",
              "    <tr>\n",
              "      <th>57864</th>\n",
              "      <td>0</td>\n",
              "      <td>22</td>\n",
              "      <td>0.385915</td>\n",
              "      <td>0.0</td>\n",
              "    </tr>\n",
              "    <tr>\n",
              "      <th>57876</th>\n",
              "      <td>0</td>\n",
              "      <td>24</td>\n",
              "      <td>2.441815</td>\n",
              "      <td>0.0</td>\n",
              "    </tr>\n",
              "  </tbody>\n",
              "</table>\n",
              "<p>1739 rows × 4 columns</p>\n",
              "</div>"
            ],
            "text/plain": [
              "       ComplexConvergenceDum  ...  avg_gold_dum_pri_count\n",
              "10                         0  ...                     0.0\n",
              "23                         0  ...                     0.0\n",
              "66                         0  ...                     4.0\n",
              "103                        0  ...                     0.0\n",
              "188                        0  ...                     0.0\n",
              "...                      ...  ...                     ...\n",
              "57735                      0  ...                     0.0\n",
              "57796                      0  ...                     0.0\n",
              "57843                      0  ...                     0.0\n",
              "57864                      0  ...                     0.0\n",
              "57876                      0  ...                     0.0\n",
              "\n",
              "[1739 rows x 4 columns]"
            ]
          },
          "metadata": {
            "tags": []
          },
          "execution_count": 14
        }
      ]
    },
    {
      "cell_type": "markdown",
      "metadata": {
        "id": "o0lHlAfaUxeS",
        "colab_type": "text"
      },
      "source": [
        "2.3 Creating all terms of a polynomial of degree specified by the user"
      ]
    },
    {
      "cell_type": "code",
      "metadata": {
        "id": "lmgrgo1SUOpZ",
        "colab_type": "code",
        "colab": {
          "base_uri": "https://localhost:8080/",
          "height": 34
        },
        "outputId": "af10a285-d20f-4d94-af3a-03c23f852329"
      },
      "source": [
        "polynomial_degree = int(input(\"Enter maximum degree of required polynomial: \"))"
      ],
      "execution_count": 15,
      "outputs": [
        {
          "output_type": "stream",
          "text": [
            "Enter maximum degree of required polynomial: 2\n"
          ],
          "name": "stdout"
        }
      ]
    },
    {
      "cell_type": "code",
      "metadata": {
        "id": "4uUbH3JwudfF",
        "colab_type": "code",
        "colab": {
          "base_uri": "https://localhost:8080/",
          "height": 473
        },
        "outputId": "10a0f4dc-04b7-4472-cce0-218791b3529d"
      },
      "source": [
        "#creating new dataframe with all possibile polynomial terms \n",
        "\n",
        "selected_feature_df = pd.DataFrame(X_train_selected_features_df.columns)\n",
        "cols = selected_feature_df.columns.tolist()\n",
        "def PolynomialFeatureNames(sklearn_feature_name_output, df):\n",
        "  import re \n",
        "  cols = df.columns.tolist()\n",
        "  feat_map = {'x'+str(num):cat for num, cat in enumerate(cols)}\n",
        "  feat_string = ','.join(sklearn_feature_name_output)\n",
        "  for k,v in feat_map.items():\n",
        "    feat_string = re.sub(fr\"\\b{k}\\b\",v,feat_string)\n",
        "  return feat_string.replace(\" \",\" x \").split(',')  \n",
        "\n",
        "interaction = pp.PolynomialFeatures(polynomial_degree)\n",
        "X_inter = interaction.fit_transform(X_train_selected_features_df)\n",
        "names = PolynomialFeatureNames(interaction.get_feature_names(),X_train_selected_features_df)\n",
        "\n",
        "X_inter_df = pd.DataFrame(X_inter,columns= names)\n",
        "X_inter_df"
      ],
      "execution_count": 16,
      "outputs": [
        {
          "output_type": "execute_result",
          "data": {
            "text/html": [
              "<div>\n",
              "<style scoped>\n",
              "    .dataframe tbody tr th:only-of-type {\n",
              "        vertical-align: middle;\n",
              "    }\n",
              "\n",
              "    .dataframe tbody tr th {\n",
              "        vertical-align: top;\n",
              "    }\n",
              "\n",
              "    .dataframe thead th {\n",
              "        text-align: right;\n",
              "    }\n",
              "</style>\n",
              "<table border=\"1\" class=\"dataframe\">\n",
              "  <thead>\n",
              "    <tr style=\"text-align: right;\">\n",
              "      <th></th>\n",
              "      <th>1</th>\n",
              "      <th>ComplexConvergenceDum</th>\n",
              "      <th>NSolutions</th>\n",
              "      <th>QualitativeDivergence</th>\n",
              "      <th>avg_gold_dum_pri_count</th>\n",
              "      <th>ComplexConvergenceDum^2</th>\n",
              "      <th>ComplexConvergenceDum x NSolutions</th>\n",
              "      <th>ComplexConvergenceDum x QualitativeDivergence</th>\n",
              "      <th>ComplexConvergenceDum x avg_gold_dum_pri_count</th>\n",
              "      <th>NSolutions^2</th>\n",
              "      <th>NSolutions x QualitativeDivergence</th>\n",
              "      <th>NSolutions x avg_gold_dum_pri_count</th>\n",
              "      <th>QualitativeDivergence^2</th>\n",
              "      <th>QualitativeDivergence x avg_gold_dum_pri_count</th>\n",
              "      <th>avg_gold_dum_pri_count^2</th>\n",
              "    </tr>\n",
              "  </thead>\n",
              "  <tbody>\n",
              "    <tr>\n",
              "      <th>0</th>\n",
              "      <td>1.0</td>\n",
              "      <td>0.0</td>\n",
              "      <td>32.0</td>\n",
              "      <td>0.115516</td>\n",
              "      <td>0.0</td>\n",
              "      <td>0.0</td>\n",
              "      <td>0.0</td>\n",
              "      <td>0.0</td>\n",
              "      <td>0.0</td>\n",
              "      <td>1024.0</td>\n",
              "      <td>3.696509</td>\n",
              "      <td>0.0</td>\n",
              "      <td>0.013344</td>\n",
              "      <td>0.000000</td>\n",
              "      <td>0.0</td>\n",
              "    </tr>\n",
              "    <tr>\n",
              "      <th>1</th>\n",
              "      <td>1.0</td>\n",
              "      <td>0.0</td>\n",
              "      <td>15.0</td>\n",
              "      <td>1.298079</td>\n",
              "      <td>0.0</td>\n",
              "      <td>0.0</td>\n",
              "      <td>0.0</td>\n",
              "      <td>0.0</td>\n",
              "      <td>0.0</td>\n",
              "      <td>225.0</td>\n",
              "      <td>19.471191</td>\n",
              "      <td>0.0</td>\n",
              "      <td>1.685010</td>\n",
              "      <td>0.000000</td>\n",
              "      <td>0.0</td>\n",
              "    </tr>\n",
              "    <tr>\n",
              "      <th>2</th>\n",
              "      <td>1.0</td>\n",
              "      <td>0.0</td>\n",
              "      <td>271.0</td>\n",
              "      <td>0.027853</td>\n",
              "      <td>4.0</td>\n",
              "      <td>0.0</td>\n",
              "      <td>0.0</td>\n",
              "      <td>0.0</td>\n",
              "      <td>0.0</td>\n",
              "      <td>73441.0</td>\n",
              "      <td>7.548205</td>\n",
              "      <td>1084.0</td>\n",
              "      <td>0.000776</td>\n",
              "      <td>0.111413</td>\n",
              "      <td>16.0</td>\n",
              "    </tr>\n",
              "    <tr>\n",
              "      <th>3</th>\n",
              "      <td>1.0</td>\n",
              "      <td>0.0</td>\n",
              "      <td>24.0</td>\n",
              "      <td>0.044433</td>\n",
              "      <td>0.0</td>\n",
              "      <td>0.0</td>\n",
              "      <td>0.0</td>\n",
              "      <td>0.0</td>\n",
              "      <td>0.0</td>\n",
              "      <td>576.0</td>\n",
              "      <td>1.066390</td>\n",
              "      <td>0.0</td>\n",
              "      <td>0.001974</td>\n",
              "      <td>0.000000</td>\n",
              "      <td>0.0</td>\n",
              "    </tr>\n",
              "    <tr>\n",
              "      <th>4</th>\n",
              "      <td>1.0</td>\n",
              "      <td>0.0</td>\n",
              "      <td>6.0</td>\n",
              "      <td>0.349953</td>\n",
              "      <td>0.0</td>\n",
              "      <td>0.0</td>\n",
              "      <td>0.0</td>\n",
              "      <td>0.0</td>\n",
              "      <td>0.0</td>\n",
              "      <td>36.0</td>\n",
              "      <td>2.099715</td>\n",
              "      <td>0.0</td>\n",
              "      <td>0.122467</td>\n",
              "      <td>0.000000</td>\n",
              "      <td>0.0</td>\n",
              "    </tr>\n",
              "    <tr>\n",
              "      <th>...</th>\n",
              "      <td>...</td>\n",
              "      <td>...</td>\n",
              "      <td>...</td>\n",
              "      <td>...</td>\n",
              "      <td>...</td>\n",
              "      <td>...</td>\n",
              "      <td>...</td>\n",
              "      <td>...</td>\n",
              "      <td>...</td>\n",
              "      <td>...</td>\n",
              "      <td>...</td>\n",
              "      <td>...</td>\n",
              "      <td>...</td>\n",
              "      <td>...</td>\n",
              "      <td>...</td>\n",
              "    </tr>\n",
              "    <tr>\n",
              "      <th>1734</th>\n",
              "      <td>1.0</td>\n",
              "      <td>0.0</td>\n",
              "      <td>4.0</td>\n",
              "      <td>0.000000</td>\n",
              "      <td>0.0</td>\n",
              "      <td>0.0</td>\n",
              "      <td>0.0</td>\n",
              "      <td>0.0</td>\n",
              "      <td>0.0</td>\n",
              "      <td>16.0</td>\n",
              "      <td>0.000000</td>\n",
              "      <td>0.0</td>\n",
              "      <td>0.000000</td>\n",
              "      <td>0.000000</td>\n",
              "      <td>0.0</td>\n",
              "    </tr>\n",
              "    <tr>\n",
              "      <th>1735</th>\n",
              "      <td>1.0</td>\n",
              "      <td>0.0</td>\n",
              "      <td>77.0</td>\n",
              "      <td>0.728924</td>\n",
              "      <td>0.0</td>\n",
              "      <td>0.0</td>\n",
              "      <td>0.0</td>\n",
              "      <td>0.0</td>\n",
              "      <td>0.0</td>\n",
              "      <td>5929.0</td>\n",
              "      <td>56.127144</td>\n",
              "      <td>0.0</td>\n",
              "      <td>0.531330</td>\n",
              "      <td>0.000000</td>\n",
              "      <td>0.0</td>\n",
              "    </tr>\n",
              "    <tr>\n",
              "      <th>1736</th>\n",
              "      <td>1.0</td>\n",
              "      <td>0.0</td>\n",
              "      <td>68.0</td>\n",
              "      <td>0.096943</td>\n",
              "      <td>0.0</td>\n",
              "      <td>0.0</td>\n",
              "      <td>0.0</td>\n",
              "      <td>0.0</td>\n",
              "      <td>0.0</td>\n",
              "      <td>4624.0</td>\n",
              "      <td>6.592124</td>\n",
              "      <td>0.0</td>\n",
              "      <td>0.009398</td>\n",
              "      <td>0.000000</td>\n",
              "      <td>0.0</td>\n",
              "    </tr>\n",
              "    <tr>\n",
              "      <th>1737</th>\n",
              "      <td>1.0</td>\n",
              "      <td>0.0</td>\n",
              "      <td>22.0</td>\n",
              "      <td>0.385915</td>\n",
              "      <td>0.0</td>\n",
              "      <td>0.0</td>\n",
              "      <td>0.0</td>\n",
              "      <td>0.0</td>\n",
              "      <td>0.0</td>\n",
              "      <td>484.0</td>\n",
              "      <td>8.490119</td>\n",
              "      <td>0.0</td>\n",
              "      <td>0.148930</td>\n",
              "      <td>0.000000</td>\n",
              "      <td>0.0</td>\n",
              "    </tr>\n",
              "    <tr>\n",
              "      <th>1738</th>\n",
              "      <td>1.0</td>\n",
              "      <td>0.0</td>\n",
              "      <td>24.0</td>\n",
              "      <td>2.441815</td>\n",
              "      <td>0.0</td>\n",
              "      <td>0.0</td>\n",
              "      <td>0.0</td>\n",
              "      <td>0.0</td>\n",
              "      <td>0.0</td>\n",
              "      <td>576.0</td>\n",
              "      <td>58.603566</td>\n",
              "      <td>0.0</td>\n",
              "      <td>5.962462</td>\n",
              "      <td>0.000000</td>\n",
              "      <td>0.0</td>\n",
              "    </tr>\n",
              "  </tbody>\n",
              "</table>\n",
              "<p>1739 rows × 15 columns</p>\n",
              "</div>"
            ],
            "text/plain": [
              "        1  ...  avg_gold_dum_pri_count^2\n",
              "0     1.0  ...                       0.0\n",
              "1     1.0  ...                       0.0\n",
              "2     1.0  ...                      16.0\n",
              "3     1.0  ...                       0.0\n",
              "4     1.0  ...                       0.0\n",
              "...   ...  ...                       ...\n",
              "1734  1.0  ...                       0.0\n",
              "1735  1.0  ...                       0.0\n",
              "1736  1.0  ...                       0.0\n",
              "1737  1.0  ...                       0.0\n",
              "1738  1.0  ...                       0.0\n",
              "\n",
              "[1739 rows x 15 columns]"
            ]
          },
          "metadata": {
            "tags": []
          },
          "execution_count": 16
        }
      ]
    },
    {
      "cell_type": "markdown",
      "metadata": {
        "id": "HO9nko56WOzo",
        "colab_type": "text"
      },
      "source": [
        "**Stage 3: Selecting important polynomial terms** \n",
        "\n"
      ]
    },
    {
      "cell_type": "markdown",
      "metadata": {
        "id": "cnXRTOZdm6gl",
        "colab_type": "text"
      },
      "source": [
        "Stage 3.1 Using K-fold cross validation to find best regularization parameter of the lasso model. "
      ]
    },
    {
      "cell_type": "code",
      "metadata": {
        "id": "nuH57Bzi8BkB",
        "colab_type": "code",
        "colab": {
          "base_uri": "https://localhost:8080/",
          "height": 564
        },
        "outputId": "9b639b46-5927-4005-b6b7-84dc18827020"
      },
      "source": [
        "lasso = Lasso()\n",
        "parameters = {'alpha': [1e-15, 1e-10, 1e-8, 1e-4, 1e-3, 1e-2, 1, 5, 10, 20]}\n",
        "\n",
        "lasso_regressor = GridSearchCV(lasso, parameters, scoring = 'neg_mean_squared_error', cv = 5)\n",
        "lasso_regressor.fit(X_inter_df,Y_train_df)\n",
        "\n",
        "print(\"Best parameter value is:\", lasso_regressor.best_params_)"
      ],
      "execution_count": 17,
      "outputs": [
        {
          "output_type": "stream",
          "text": [
            "/usr/local/lib/python3.6/dist-packages/sklearn/linear_model/_coordinate_descent.py:476: ConvergenceWarning: Objective did not converge. You might want to increase the number of iterations. Duality gap: 204.2560068435523, tolerance: 0.04611214917020441\n",
            "  positive)\n",
            "/usr/local/lib/python3.6/dist-packages/sklearn/linear_model/_coordinate_descent.py:476: ConvergenceWarning: Objective did not converge. You might want to increase the number of iterations. Duality gap: 194.1325230806634, tolerance: 0.04536885143467134\n",
            "  positive)\n",
            "/usr/local/lib/python3.6/dist-packages/sklearn/linear_model/_coordinate_descent.py:476: ConvergenceWarning: Objective did not converge. You might want to increase the number of iterations. Duality gap: 176.04295591213042, tolerance: 0.041248792791679346\n",
            "  positive)\n",
            "/usr/local/lib/python3.6/dist-packages/sklearn/linear_model/_coordinate_descent.py:476: ConvergenceWarning: Objective did not converge. You might want to increase the number of iterations. Duality gap: 207.4948309528312, tolerance: 0.04681167396543495\n",
            "  positive)\n",
            "/usr/local/lib/python3.6/dist-packages/sklearn/linear_model/_coordinate_descent.py:476: ConvergenceWarning: Objective did not converge. You might want to increase the number of iterations. Duality gap: 186.66042303744123, tolerance: 0.04298917704236118\n",
            "  positive)\n",
            "/usr/local/lib/python3.6/dist-packages/sklearn/linear_model/_coordinate_descent.py:476: ConvergenceWarning: Objective did not converge. You might want to increase the number of iterations. Duality gap: 201.3879444535623, tolerance: 0.04611214917020441\n",
            "  positive)\n",
            "/usr/local/lib/python3.6/dist-packages/sklearn/linear_model/_coordinate_descent.py:476: ConvergenceWarning: Objective did not converge. You might want to increase the number of iterations. Duality gap: 193.91461238323973, tolerance: 0.04536885143467134\n",
            "  positive)\n",
            "/usr/local/lib/python3.6/dist-packages/sklearn/linear_model/_coordinate_descent.py:476: ConvergenceWarning: Objective did not converge. You might want to increase the number of iterations. Duality gap: 173.7102626405582, tolerance: 0.041248792791679346\n",
            "  positive)\n",
            "/usr/local/lib/python3.6/dist-packages/sklearn/linear_model/_coordinate_descent.py:476: ConvergenceWarning: Objective did not converge. You might want to increase the number of iterations. Duality gap: 204.75549736446658, tolerance: 0.04681167396543495\n",
            "  positive)\n",
            "/usr/local/lib/python3.6/dist-packages/sklearn/linear_model/_coordinate_descent.py:476: ConvergenceWarning: Objective did not converge. You might want to increase the number of iterations. Duality gap: 185.93463797874227, tolerance: 0.04298917704236118\n",
            "  positive)\n",
            "/usr/local/lib/python3.6/dist-packages/sklearn/linear_model/_coordinate_descent.py:476: ConvergenceWarning: Objective did not converge. You might want to increase the number of iterations. Duality gap: 201.38795653243275, tolerance: 0.04611214917020441\n",
            "  positive)\n",
            "/usr/local/lib/python3.6/dist-packages/sklearn/linear_model/_coordinate_descent.py:476: ConvergenceWarning: Objective did not converge. You might want to increase the number of iterations. Duality gap: 193.91462931673698, tolerance: 0.04536885143467134\n",
            "  positive)\n",
            "/usr/local/lib/python3.6/dist-packages/sklearn/linear_model/_coordinate_descent.py:476: ConvergenceWarning: Objective did not converge. You might want to increase the number of iterations. Duality gap: 173.7102814143556, tolerance: 0.041248792791679346\n",
            "  positive)\n",
            "/usr/local/lib/python3.6/dist-packages/sklearn/linear_model/_coordinate_descent.py:476: ConvergenceWarning: Objective did not converge. You might want to increase the number of iterations. Duality gap: 204.75551545839647, tolerance: 0.04681167396543495\n",
            "  positive)\n",
            "/usr/local/lib/python3.6/dist-packages/sklearn/linear_model/_coordinate_descent.py:476: ConvergenceWarning: Objective did not converge. You might want to increase the number of iterations. Duality gap: 185.93465372600264, tolerance: 0.04298917704236118\n",
            "  positive)\n"
          ],
          "name": "stderr"
        },
        {
          "output_type": "stream",
          "text": [
            "Best parameter value is: {'alpha': 0.01}\n"
          ],
          "name": "stdout"
        }
      ]
    },
    {
      "cell_type": "markdown",
      "metadata": {
        "id": "JbXIQOXZpH0D",
        "colab_type": "text"
      },
      "source": [
        "Stage 3.2 Displaying the coeffecients of each polynomial term, and the user selects what terms to keep. "
      ]
    },
    {
      "cell_type": "code",
      "metadata": {
        "id": "4qndgHOLDBE9",
        "colab_type": "code",
        "colab": {
          "base_uri": "https://localhost:8080/",
          "height": 306
        },
        "outputId": "c6ffcab5-3294-4a98-c8b9-a7afc2cd7346"
      },
      "source": [
        "#coeffiecients when lasso with the best hyper parameter is fitted\n",
        "coefficients = list(lasso_regressor.best_estimator_.coef_)\n",
        "feature_coefficients = [(name, round(coefficient, 20)) for name, coefficient in zip(names, coefficients)]\n",
        "\n",
        "#sorting the coefficients in descending order\n",
        "feature_coefficients = sorted(feature_coefficients, key = lambda x: x[1], reverse = True)\n",
        "\n",
        "print(\"The coefficient of each feature in the polynomial is: \\n\")\n",
        "feature_coefficients"
      ],
      "execution_count": 18,
      "outputs": [
        {
          "output_type": "stream",
          "text": [
            "The coefficient of each feature in the polynomial is: \n",
            "\n"
          ],
          "name": "stdout"
        },
        {
          "output_type": "execute_result",
          "data": {
            "text/plain": [
              "[('QualitativeDivergence', 0.11102623677097967),\n",
              " ('NSolutions', 0.0040267211825008396),\n",
              " ('avg_gold_dum_pri_count^2', 0.001157453053928741),\n",
              " ('NSolutions x QualitativeDivergence', 0.0011010536798848902),\n",
              " ('1', 0.0),\n",
              " ('ComplexConvergenceDum', 0.0),\n",
              " ('avg_gold_dum_pri_count', 0.0),\n",
              " ('ComplexConvergenceDum^2', 0.0),\n",
              " ('ComplexConvergenceDum x QualitativeDivergence', -0.0),\n",
              " ('ComplexConvergenceDum x avg_gold_dum_pri_count', -0.0),\n",
              " ('QualitativeDivergence x avg_gold_dum_pri_count', 0.0),\n",
              " ('NSolutions^2', -8.77954739410998e-06),\n",
              " ('NSolutions x avg_gold_dum_pri_count', -6.697921464788887e-05),\n",
              " ('ComplexConvergenceDum x NSolutions', -0.0004109132896667968),\n",
              " ('QualitativeDivergence^2', -0.017728228228042053)]"
            ]
          },
          "metadata": {
            "tags": []
          },
          "execution_count": 18
        }
      ]
    },
    {
      "cell_type": "code",
      "metadata": {
        "id": "wIRrHZOh9GZK",
        "colab_type": "code",
        "colab": {
          "base_uri": "https://localhost:8080/",
          "height": 289
        },
        "outputId": "9b6e6a1f-a7ad-4178-eee8-9082f493cddf"
      },
      "source": [
        "print(\"A higher coefficient indicates higher importance of a term.\\n\")\n",
        "num_required_terms = int(input(\"How many terms of the polynomial do you want to select? \"))\n",
        "req_term_list = [] \n",
        "for j in range (0,num_required_terms):\n",
        "  term_choice = input(\"Enter required term name: \")\n",
        "  req_term_list.append(term_choice)\n",
        "req_term_df = pd.DataFrame(req_term_list)\n",
        "col_names_new = list(X_inter_df.columns)\n",
        "\n",
        "X_train_selected_terms_df = X_inter_df.copy(deep = True)\n",
        "for col_name_new in col_names_new:\n",
        "    if col_name_new not in req_term_list:\n",
        "        X_train_selected_terms_df = X_train_selected_terms_df.drop(columns=col_name_new,inplace=False)\n",
        "\n",
        "X_train_selected_terms_df\n",
        "print(\"The predicted polynomial is:\\n\")\n",
        "for h in range (0,num_required_terms):\n",
        "  print(req_term_list[h])\n",
        "  if h != num_required_terms-1:\n",
        "    print(\"+\")\n"
      ],
      "execution_count": 19,
      "outputs": [
        {
          "output_type": "stream",
          "text": [
            "A higher coefficient indicates higher importance of a term.\n",
            "\n",
            "How many terms of the polynomial do you want to select? 4\n",
            "Enter required term name: QualitativeDivergence\n",
            "Enter required term name: NSolutions\n",
            "Enter required term name: avg_gold_dum_pri_count^2\n",
            "Enter required term name: NSolutions x QualitativeDivergence\n",
            "The predicted polynomial is:\n",
            "\n",
            "QualitativeDivergence\n",
            "+\n",
            "NSolutions\n",
            "+\n",
            "avg_gold_dum_pri_count^2\n",
            "+\n",
            "NSolutions x QualitativeDivergence\n"
          ],
          "name": "stdout"
        }
      ]
    },
    {
      "cell_type": "markdown",
      "metadata": {
        "id": "TIRjRaPPvNo_",
        "colab_type": "text"
      },
      "source": [
        "**Stage 4: Creating the final polynomial**"
      ]
    },
    {
      "cell_type": "markdown",
      "metadata": {
        "id": "wyVTmhCnPTsY",
        "colab_type": "text"
      },
      "source": [
        "4.1 Fitting a OLS linear regression method with the shortlisted terms through different subsamples of data"
      ]
    },
    {
      "cell_type": "code",
      "metadata": {
        "id": "lPr0Fv3f60Ix",
        "colab_type": "code",
        "colab": {
          "base_uri": "https://localhost:8080/",
          "height": 34
        },
        "outputId": "55a41a3c-530d-476b-eeec-e7e1ae0d6d2a"
      },
      "source": [
        "k = int(input(\"Enter number of sub-samples\"))\n",
        "coeff_array = np.ones((k,(len(df_filled.columns)-1)))\n",
        "\n",
        "for g in range (0,k):\n",
        "  sub_sample_data = df_filled.sample(n=int((len(X_train_df))/k ))\n",
        "  X_sub_sample_df = sub_sample_data.copy(deep=True)\n",
        "  selected_columns = X_sub_sample_df[[target_name]]\n",
        "  Y_sub_sample_df = selected_columns.copy()\n",
        "  X_sub_sample_df = X_sub_sample_df.drop(columns=target_name)\n",
        "  reg = LinearRegression().fit(X_sub_sample_df, Y_sub_sample_df)\n",
        "  coeff_test =np.array(reg.coef_)\n",
        "  for f in range (0,(len(df_filled.columns)-1)):\n",
        "    coeff_array[g][f] = coeff_test[0][f]\n",
        "coeff_array_transpose = coeff_array.transpose()"
      ],
      "execution_count": 20,
      "outputs": [
        {
          "output_type": "stream",
          "text": [
            "Enter number of sub-samples5\n"
          ],
          "name": "stdout"
        }
      ]
    },
    {
      "cell_type": "markdown",
      "metadata": {
        "id": "N14ildvYQmBS",
        "colab_type": "text"
      },
      "source": [
        "4.2 Running an OLS on different sub-samples of the data, and respresenting using heatmap "
      ]
    },
    {
      "cell_type": "code",
      "metadata": {
        "id": "RgTzSB49JuZ0",
        "colab_type": "code",
        "colab": {}
      },
      "source": [
        "y_label = X_train_df.columns.to_list()\n",
        "x_label = []\n",
        "for r in range (0,k):\n",
        "  s = \"SubSample\" + str(k)\n",
        "  x_label.append(s)"
      ],
      "execution_count": 21,
      "outputs": []
    },
    {
      "cell_type": "code",
      "metadata": {
        "id": "VVebUAxmEWGE",
        "colab_type": "code",
        "colab": {
          "base_uri": "https://localhost:8080/",
          "height": 335
        },
        "outputId": "6bb2b331-c990-4f5e-c86b-b97551bb9aad"
      },
      "source": [
        "sns.heatmap(coeff_array_transpose, cmap=\"YlGnBu\",yticklabels=y_label,xticklabels=x_label)"
      ],
      "execution_count": 22,
      "outputs": [
        {
          "output_type": "execute_result",
          "data": {
            "text/plain": [
              "<matplotlib.axes._subplots.AxesSubplot at 0x7f41b986d390>"
            ]
          },
          "metadata": {
            "tags": []
          },
          "execution_count": 22
        },
        {
          "output_type": "display_data",
          "data": {
            "image/png": "[encoded data removed]",
            "text/plain": [
              "<Figure size 432x288 with 2 Axes>"
            ]
          },
          "metadata": {
            "tags": [],
            "needs_background": "light"
          }
        }
      ]
    }
  ]
}